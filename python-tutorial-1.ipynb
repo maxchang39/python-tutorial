{
 "cells": [
  {
   "cell_type": "markdown",
   "metadata": {},
   "source": [
    "# Python Tutorial 1: Variable, Type and Operator"
   ]
  },
  {
   "cell_type": "markdown",
   "metadata": {},
   "source": [
    "# Topic 1: Variable\n",
    "\n",
    "Variables is a key concept of all programming language, it generally means a space in your computer memory where data is stored. "
   ]
  },
  {
   "cell_type": "code",
   "execution_count": 1,
   "metadata": {},
   "outputs": [],
   "source": [
    "#  This is a python varibale named a, giving the value of 5\n",
    "a = 5"
   ]
  },
  {
   "cell_type": "markdown",
   "metadata": {},
   "source": [
    "As you can see above, variable can be assigned value by using the operator \"=\". A different way to view this process is to think about a box labeled \"a\" in your computer, and you put number 5 into it."
   ]
  },
  {
   "cell_type": "markdown",
   "metadata": {},
   "source": [
    "### Question\n",
    "What will see when we try to print the variable named b? why?"
   ]
  },
  {
   "cell_type": "code",
   "execution_count": 2,
   "metadata": {},
   "outputs": [
    {
     "ename": "NameError",
     "evalue": "name 'b' is not defined",
     "output_type": "error",
     "traceback": [
      "\u001b[1;31m---------------------------------------------------------------------------\u001b[0m",
      "\u001b[1;31mNameError\u001b[0m                                 Traceback (most recent call last)",
      "\u001b[1;32m<ipython-input-2-67e500defa1b>\u001b[0m in \u001b[0;36m<module>\u001b[1;34m()\u001b[0m\n\u001b[1;32m----> 1\u001b[1;33m \u001b[0mprint\u001b[0m\u001b[1;33m(\u001b[0m\u001b[0mb\u001b[0m\u001b[1;33m)\u001b[0m\u001b[1;33m\u001b[0m\u001b[0m\n\u001b[0m",
      "\u001b[1;31mNameError\u001b[0m: name 'b' is not defined"
     ]
    }
   ],
   "source": [
    "print(b)"
   ]
  },
  {
   "cell_type": "markdown",
   "metadata": {},
   "source": [
    "# 1.1: Variable Declaration, Initialization\n",
    "\n",
    "The word **Variable Declaration** or **Variable Initialization** usually refers to the first assignment of a new varible. While lots of people talking about these terms with almost the same meaning. These two terms are actually slightly different.\n",
    "\n",
    "**Variable Declaration** stands for the process of declaring the type of a variable - whether the variable is numeric, text or whatever, type gives the variable a restriction on its content.\n",
    "\n",
    "**Variable Initialization** stands for the process of assigning the initial value to a variable - this is usually after the declaration."
   ]
  },
  {
   "cell_type": "code",
   "execution_count": null,
   "metadata": {},
   "outputs": [],
   "source": [
    "# Declare a new variable c with value 5\n",
    "c = 5\n",
    "print(c)"
   ]
  },
  {
   "cell_type": "markdown",
   "metadata": {},
   "source": [
    "In python because there is no check of type during compilation, variable declaration is usually not needed.\n",
    "\n",
    "However, programmers are stil required to initialize a variable before actually using it."
   ]
  },
  {
   "cell_type": "code",
   "execution_count": null,
   "metadata": {},
   "outputs": [],
   "source": [
    "if = 3"
   ]
  },
  {
   "cell_type": "markdown",
   "metadata": {},
   "source": [
    "## Question\n",
    "Why can't we initialize a new variable named \"if\"?"
   ]
  },
  {
   "cell_type": "markdown",
   "metadata": {},
   "source": [
    "# 1.2: Variable Naming"
   ]
  },
  {
   "cell_type": "markdown",
   "metadata": {},
   "source": [
    "Variable name is the reference or handle of the data stored in your memory. \n",
    "\n",
    "Although programmers are allowed to pick whatever they want to be the name, there are some rules and conventions we need to follow:\n",
    "\n",
    "1. Avoid using keywords: Most programming languages hold a list of keywords which they keep for their own purpose, assigning variable names with these keywords will cause an error.\n",
    "\n",
    "**check the list of python's keywords: https://www.programiz.com/python-programming/keyword-list**\n",
    "2. make it short: Long variable names are hard to follow and could raise potential bugs while coding.\n",
    "3. Delimiter-separated: Delimiter-separated is a popular naming strategy where people puts a \"\\_\" between each separate words,  for example: new_data, test_file.\n",
    "\n",
    "**this will be the naming convention followed by this tutorial.tenate**"
   ]
  },
  {
   "cell_type": "code",
   "execution_count": null,
   "metadata": {},
   "outputs": [],
   "source": [
    "# This will cause problem\n",
    "if = 5"
   ]
  },
  {
   "cell_type": "markdown",
   "metadata": {},
   "source": [
    "## Question"
   ]
  },
  {
   "cell_type": "markdown",
   "metadata": {},
   "source": [
    "What's the output and why are we seeing it?"
   ]
  },
  {
   "cell_type": "code",
   "execution_count": null,
   "metadata": {},
   "outputs": [],
   "source": [
    "cat = \"cat\"\n",
    "cat = \"dog\"\n",
    "\n",
    "print(cat)"
   ]
  },
  {
   "cell_type": "markdown",
   "metadata": {},
   "source": [
    "# 1.3: Variable Assigning and \"=\""
   ]
  },
  {
   "cell_type": "markdown",
   "metadata": {},
   "source": [
    "Programmer can assign values to a variable for unlimitied times using the \"=\" operator, but only the last value will remain under the variable name.\n",
    "\n",
    "So when you trying to understand the content of a variable, try to read from top to bottom of the code"
   ]
  },
  {
   "cell_type": "markdown",
   "metadata": {},
   "source": [
    "## Practice and Review:\n",
    "\n",
    "Try to switch the values of a and b using \"=\""
   ]
  },
  {
   "cell_type": "code",
   "execution_count": null,
   "metadata": {},
   "outputs": [],
   "source": [
    "a = 1\n",
    "b = 2"
   ]
  },
  {
   "cell_type": "markdown",
   "metadata": {},
   "source": [
    "# Topic 2: Type"
   ]
  },
  {
   "cell_type": "markdown",
   "metadata": {},
   "source": [
    "Variable type is a critical concept in lots of programming languages. The type of a variable not only restricts the content refered by a variable name, but also gives the computer an indication what value should be expected during compiling and running.\n",
    "\n",
    "In python, there are multiple basic types.\n",
    "\n",
    "### Try it yourself:"
   ]
  },
  {
   "cell_type": "code",
   "execution_count": null,
   "metadata": {
    "scrolled": true
   },
   "outputs": [],
   "source": [
    "# this is a numeric\n",
    "a = 5\n",
    "# this is a string\n",
    "b = \"hello\"\n",
    "# this is a bollean\n",
    "c = True\n",
    "\n",
    "print(a, b, c)"
   ]
  },
  {
   "cell_type": "markdown",
   "metadata": {},
   "source": [
    "# 2.1 Numeric"
   ]
  },
  {
   "cell_type": "markdown",
   "metadata": {},
   "source": [
    "Variables storing numbers are called **Numeric** is python. \n",
    "\n",
    "1. **Numeric** can perform math calculations with other **Numeric**.\n",
    "\n",
    "2. Unlike some other languages, python Numerics has no limits on how big/small the number could be."
   ]
  },
  {
   "cell_type": "code",
   "execution_count": null,
   "metadata": {},
   "outputs": [],
   "source": [
    "a = 3\n",
    "b = 5\n",
    "c = a + b\n",
    "\n",
    "print(c)"
   ]
  },
  {
   "cell_type": "markdown",
   "metadata": {},
   "source": [
    "# 2.2 String"
   ]
  },
  {
   "cell_type": "markdown",
   "metadata": {},
   "source": [
    "Variables storing texts are called **String** in python. \n",
    "\n",
    "1. **String** can perform things like concatenation with other **String**. **String** cannot concat with numeric directly.\n",
    "\n",
    "2. **String** requires a pair of single\\double quotes on its start and its end.\n",
    "\n",
    "3. **String** are actually a list of characters.\n",
    "\n",
    "### Try it yourself:"
   ]
  },
  {
   "cell_type": "code",
   "execution_count": null,
   "metadata": {},
   "outputs": [],
   "source": [
    "a = \"54321\"\n",
    "\n",
    "print( a + \"hello world\")\n",
    "print( a[4])"
   ]
  },
  {
   "cell_type": "code",
   "execution_count": null,
   "metadata": {},
   "outputs": [],
   "source": [
    "print(a + 5)"
   ]
  },
  {
   "cell_type": "markdown",
   "metadata": {},
   "source": [
    "# 2.3 Boolean"
   ]
  },
  {
   "cell_type": "markdown",
   "metadata": {},
   "source": [
    "Variables storing Boolean value are called **Boolean** in python. \n",
    "\n",
    "1. Unlike **Numeric** or **String**, **Boolean** only has two possible value **True** and **False**.(**Case Sensitive**)\n",
    "2. **Boolean** can perform bool operations with other **Boolean**.\n",
    "3. Numeric number 1 and 0 are treated as **Boolean** value **True** and **False** in some operator calcualtions\n",
    "\n",
    "Refer: https://en.wikipedia.org/wiki/Boolean_data_type\n",
    "\n",
    "### Try it yourself:"
   ]
  },
  {
   "cell_type": "code",
   "execution_count": 16,
   "metadata": {},
   "outputs": [
    {
     "name": "stdout",
     "output_type": "stream",
     "text": [
      "False\n",
      "1\n",
      "0\n"
     ]
    }
   ],
   "source": [
    "a = True\n",
    "b = False\n",
    "\n",
    "print(a and b)\n",
    "print(a and 1)\n",
    "print(a and 0)"
   ]
  },
  {
   "cell_type": "markdown",
   "metadata": {},
   "source": [
    "## Practice and Review:\n",
    "\n",
    "What are the types of the following variable a, b and c?"
   ]
  },
  {
   "cell_type": "code",
   "execution_count": null,
   "metadata": {},
   "outputs": [],
   "source": [
    "a = 1 + 2\n",
    "b = \"2\"\n",
    "c = a + 6"
   ]
  },
  {
   "cell_type": "markdown",
   "metadata": {},
   "source": [
    "# Topic 3: Operator"
   ]
  },
  {
   "cell_type": "markdown",
   "metadata": {},
   "source": [
    "Operators like \"=\" are special built-in processes of python provide programmers of the basic means to do data manipulations on the name of variables.\n",
    "\n",
    "We will discuss different types of operators in this secion."
   ]
  },
  {
   "cell_type": "markdown",
   "metadata": {},
   "source": [
    "# 3.1: Arithmetic Operators"
   ]
  },
  {
   "cell_type": "markdown",
   "metadata": {},
   "source": [
    "Arithmetic are used to perform mathematical operations like addition, subtraction, multiplication etc.\n",
    "\n",
    "1. Some arithmetic Operators can be used on **String** or **Boolean** types as well. Check for the expected behaviors on python doc before making your decision.\n",
    "\n",
    "Refer: https://www.programiz.com/python-programming/operators#arithmetic\n",
    "\n",
    "### Try it yourself:"
   ]
  },
  {
   "cell_type": "code",
   "execution_count": 4,
   "metadata": {},
   "outputs": [
    {
     "name": "stdout",
     "output_type": "stream",
     "text": [
      "6.0\n"
     ]
    }
   ],
   "source": [
    "a = 1 + 2 * 3 - ( 5 * 4 / 2 ) % 3\n",
    "\n",
    "print(a)"
   ]
  },
  {
   "cell_type": "markdown",
   "metadata": {},
   "source": [
    "Like math in real, arithmetic operators also follow certain priority rule - e.g. multiplication will be operated prior to addition.\n",
    "\n",
    "Refer: http://www.mathcs.emory.edu/~valerie/courses/fall10/155/resources/op_precedence.html"
   ]
  },
  {
   "cell_type": "markdown",
   "metadata": {},
   "source": [
    "## Question\n",
    "\n",
    "What's the order of the below calculation, use brackets to tell."
   ]
  },
  {
   "cell_type": "code",
   "execution_count": 8,
   "metadata": {},
   "outputs": [],
   "source": [
    "a = 5**2*3 + 4 > 12345"
   ]
  },
  {
   "cell_type": "markdown",
   "metadata": {},
   "source": [
    "# 3.2 Comparison operators  "
   ]
  },
  {
   "cell_type": "markdown",
   "metadata": {},
   "source": [
    "Comparison operators are used to compare values. It either returns True or False according to the condition.\n",
    "\n",
    "1. Comparison operators has different rule when comparing different type of variables, make sure you understand what's actually being compared with.\n",
    "\n",
    "Refer: https://www.programiz.com/python-programming/operators#comparison\n",
    "\n",
    "### Try it yourself:"
   ]
  },
  {
   "cell_type": "code",
   "execution_count": 20,
   "metadata": {},
   "outputs": [
    {
     "name": "stdout",
     "output_type": "stream",
     "text": [
      "True\n",
      "True\n",
      "True\n"
     ]
    }
   ],
   "source": [
    "a = True\n",
    "b = 3\n",
    "c = \"5\"\n",
    "\n",
    "print( a > 0 )\n",
    "print( b > 0 )\n",
    "print( c > \"0\" )"
   ]
  },
  {
   "cell_type": "markdown",
   "metadata": {},
   "source": [
    "## Explanation\n",
    "\n",
    "1. **True** is considered 1 when comparing with numbers\n",
    "\n",
    "2. comparing two numerics based on value\n",
    "\n",
    "3. comparing two strings based on Lexicology order"
   ]
  },
  {
   "cell_type": "markdown",
   "metadata": {},
   "source": [
    "# 3.3: Logical Operators"
   ]
  },
  {
   "cell_type": "markdown",
   "metadata": {},
   "source": [
    "Logical operators are the and, or, not operators.\n",
    "\n",
    "1. Though mainly used for **Boolean** type, Numerics can also be used in logical operations in python, the numeric number will be converted to binary value and then follow the rule of binary values.\n",
    "\n",
    "Refer: https://www.programiz.com/python-programming/operators#logical\n",
    "\n",
    "Refer: https://en.wikipedia.org/wiki/Bitwise_operation#\n",
    "\n",
    "### Try it yourself"
   ]
  },
  {
   "cell_type": "code",
   "execution_count": 21,
   "metadata": {},
   "outputs": [
    {
     "name": "stdout",
     "output_type": "stream",
     "text": [
      "5\n",
      "False\n"
     ]
    }
   ],
   "source": [
    "a = True\n",
    "b = False\n",
    "\n",
    "print (a and 5)\n",
    "print (b and 5)"
   ]
  },
  {
   "cell_type": "markdown",
   "metadata": {},
   "source": [
    "# 3.4 Assignment Operator"
   ]
  },
  {
   "cell_type": "markdown",
   "metadata": {},
   "source": [
    "Assignment Operators are used in Python to assign values to variables.\n",
    "\n",
    "1. In addition to the very basic \"=\", python provides other Assignment Opeartors like \"+=\" for programmers to get some shortcuts.\n",
    "\n",
    "   For example \"x += 1\", using the self-increment sign, basically means x = x + 1\n",
    "\n",
    "Refer: https://www.programiz.com/python-programming/operators#assignment\n",
    "   \n",
    "### Try it yourself"
   ]
  },
  {
   "cell_type": "code",
   "execution_count": 22,
   "metadata": {},
   "outputs": [
    {
     "name": "stdout",
     "output_type": "stream",
     "text": [
      "32.0\n"
     ]
    }
   ],
   "source": [
    "a = 500\n",
    "\n",
    "a+=12\n",
    "a/=32\n",
    "a*=2\n",
    "\n",
    "print(a)"
   ]
  },
  {
   "cell_type": "markdown",
   "metadata": {},
   "source": [
    "# 3.5 Conditional Operator ... if ... else ..."
   ]
  },
  {
   "cell_type": "markdown",
   "metadata": {},
   "source": [
    "Conditional opeartor is a special opeartor which has one conditional check and two possible outputs based on the check.\n",
    "\n",
    "1. Conditional opeartor will first check the statement, if it is true then returns code1, otherwise it will returns code2.\n",
    "\n",
    "   **{ code1 } if { statement } else { code2 }**\n",
    "   \n",
    "   \n",
    "2. Conditional opeartor is a simpified way of writing a if control flow.\n",
    "\n",
    "\n",
    "3. In some other languages, conditional opeartor is written in the form of **... ? ... : ...**\n",
    "   \n",
    "### Try it yourself"
   ]
  },
  {
   "cell_type": "code",
   "execution_count": 25,
   "metadata": {},
   "outputs": [
    {
     "name": "stdout",
     "output_type": "stream",
     "text": [
      "True\n",
      "3\n"
     ]
    }
   ],
   "source": [
    "a = True if 1>0 else False\n",
    "b = 3 if True else 5\n",
    "\n",
    "print(a)\n",
    "print(b)"
   ]
  },
  {
   "cell_type": "markdown",
   "metadata": {},
   "source": [
    "## Practice and Review:\n",
    "\n",
    "Write down the whole calculation of a sphere's mass with desired opeartors, assuming $radius = 2, \\pi = 3.14, \\rho = 2.5 $\n",
    "\n",
    "Use conditional operator to decide whether the ball's mass is over 10 or not, **print** \"larger\" if mass is over 10, otherwise **print** \"smaller\""
   ]
  },
  {
   "cell_type": "code",
   "execution_count": null,
   "metadata": {},
   "outputs": [],
   "source": [
    "r = 2\n",
    "pi = 3.14\n",
    "rho = 2.5"
   ]
  },
  {
   "cell_type": "code",
   "execution_count": null,
   "metadata": {},
   "outputs": [],
   "source": []
  }
 ],
 "metadata": {
  "kernelspec": {
   "display_name": "Python 3",
   "language": "python",
   "name": "python3"
  },
  "language_info": {
   "codemirror_mode": {
    "name": "ipython",
    "version": 3
   },
   "file_extension": ".py",
   "mimetype": "text/x-python",
   "name": "python",
   "nbconvert_exporter": "python",
   "pygments_lexer": "ipython3",
   "version": "3.6.1"
  }
 },
 "nbformat": 4,
 "nbformat_minor": 2
}
