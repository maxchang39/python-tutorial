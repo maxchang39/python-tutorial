{
 "cells": [
  {
   "cell_type": "markdown",
   "metadata": {},
   "source": [
    "# Python Tutorial 2: Array and Control Flow"
   ]
  },
  {
   "cell_type": "markdown",
   "metadata": {},
   "source": [
    "# Topic 1: Array"
   ]
  },
  {
   "cell_type": "markdown",
   "metadata": {},
   "source": [
    "Array is a data structure to store mulitple values under one variable name.\n",
    "\n",
    "### Try it yourself."
   ]
  },
  {
   "cell_type": "code",
   "execution_count": 4,
   "metadata": {},
   "outputs": [
    {
     "name": "stdout",
     "output_type": "stream",
     "text": [
      "The first element of array is 1\n",
      "The second element of array is 2\n",
      "6\n"
     ]
    }
   ],
   "source": [
    "a = [1, 2, 3]\n",
    "print(\"The first element of array is\", a[0])\n",
    "print(\"The second element of array is\", a[1])\n",
    "print(sum(a))"
   ]
  },
  {
   "cell_type": "markdown",
   "metadata": {},
   "source": [
    "# 1.1 Element, Length and Index"
   ]
  },
  {
   "cell_type": "markdown",
   "metadata": {},
   "source": [
    "In python, items that stored in an array are called **Elements**. \n",
    "\n",
    "the number of **Elements** that stored in an array is called **Length**. \n",
    "\n",
    "Each **Element** in an **Array** will have a number for accessing them, which is called the **Index**.\n",
    "\n",
    "1. **len(array)** is a property of an **Array** for checking how many **Elements** are stored. **Array** always hold the same number of **Element** as indicated by the **len(array)**.\n",
    "2. **Index** starts from 0 and ends at **len(array)**-1.\n",
    "3. Each elemtn of an array can be refered by using array\\[index\\].\n",
    "4. Try to access an **Element** out the range (like a negative **Index** or **Index** larger than **len(array)-1** ) will raise an error.\n",
    "\n",
    "### Try it yourself"
   ]
  },
  {
   "cell_type": "code",
   "execution_count": 5,
   "metadata": {},
   "outputs": [
    {
     "name": "stdout",
     "output_type": "stream",
     "text": [
      "3\n",
      "1\n",
      "2\n"
     ]
    }
   ],
   "source": [
    "# a is an array of length 3\n",
    "a = [1, 2, 3]\n",
    "\n",
    "print(len(a))\n",
    "print(a[0])\n",
    "print(a[1])"
   ]
  },
  {
   "cell_type": "code",
   "execution_count": 6,
   "metadata": {},
   "outputs": [
    {
     "ename": "IndexError",
     "evalue": "list index out of range",
     "output_type": "error",
     "traceback": [
      "\u001b[1;31m---------------------------------------------------------------------------\u001b[0m",
      "\u001b[1;31mIndexError\u001b[0m                                Traceback (most recent call last)",
      "\u001b[1;32m<ipython-input-6-ba4863cd608d>\u001b[0m in \u001b[0;36m<module>\u001b[1;34m()\u001b[0m\n\u001b[1;32m----> 1\u001b[1;33m \u001b[0mprint\u001b[0m\u001b[1;33m(\u001b[0m\u001b[0ma\u001b[0m\u001b[1;33m[\u001b[0m\u001b[1;36m4\u001b[0m\u001b[1;33m]\u001b[0m\u001b[1;33m)\u001b[0m\u001b[1;33m\u001b[0m\u001b[0m\n\u001b[0m",
      "\u001b[1;31mIndexError\u001b[0m: list index out of range"
     ]
    }
   ],
   "source": [
    "print(a[4])"
   ]
  },
  {
   "cell_type": "markdown",
   "metadata": {},
   "source": [
    "# 1.2 Array Initialization"
   ]
  },
  {
   "cell_type": "markdown",
   "metadata": {},
   "source": [
    "To initialize an array in python, we need to create a new array with length n and also assign the value to each slot in the array. Here's a couple ways you can do it.\n",
    "\n",
    "### Try it yourself"
   ]
  },
  {
   "cell_type": "code",
   "execution_count": 7,
   "metadata": {},
   "outputs": [
    {
     "name": "stdout",
     "output_type": "stream",
     "text": [
      "0\n"
     ]
    }
   ],
   "source": [
    "# Create an empty array, length will be 0\n",
    "a = []\n",
    "# A good way to check if an array is empty is to check its length\n",
    "print(len(a))"
   ]
  },
  {
   "cell_type": "code",
   "execution_count": 8,
   "metadata": {},
   "outputs": [
    {
     "name": "stdout",
     "output_type": "stream",
     "text": [
      "3\n"
     ]
    }
   ],
   "source": [
    "# Create a fixed size array, use period to separate each element, the size will equal to the number of elements.\n",
    "a = [1, 2, 3]\n",
    "print(len(a))"
   ]
  },
  {
   "cell_type": "code",
   "execution_count": 9,
   "metadata": {},
   "outputs": [
    {
     "name": "stdout",
     "output_type": "stream",
     "text": [
      "10\n",
      "1\n",
      "1\n"
     ]
    }
   ],
   "source": [
    "# Cool way to create an array with idential value\n",
    "a = [1]*10\n",
    "print(len(a))\n",
    "print(a[1])\n",
    "print(a[2])"
   ]
  },
  {
   "cell_type": "code",
   "execution_count": 18,
   "metadata": {},
   "outputs": [
    {
     "name": "stdout",
     "output_type": "stream",
     "text": [
      "[0, 1, 2, 3, 4, 5, 6, 7, 8, 9]\n"
     ]
    }
   ],
   "source": [
    "# Another cool way to create an array with increasing value\n",
    "b = 10\n",
    "a = [i for i in range(b)]\n",
    "\n",
    "print(a)"
   ]
  },
  {
   "cell_type": "markdown",
   "metadata": {},
   "source": [
    "# 1.3 Array Selection\n",
    "Recall that array is a list of items stored in memory, one next to each other and can be accessed individually by index. Let's try to look more complicated usage.\n",
    "\n",
    "## 1.3.1 The [::] selector\n",
    "\n",
    "**[::] syntax: [ start_index : end_index : select_every_N_item ]**\n",
    "\n",
    "\n",
    "### Try it yourself\n",
    "\n",
    "Try to predict the output before running this cell."
   ]
  },
  {
   "cell_type": "code",
   "execution_count": 34,
   "metadata": {},
   "outputs": [
    {
     "name": "stdout",
     "output_type": "stream",
     "text": [
      "[0, 1, 2, 3, 4, 5, 6, 7, 8, 9]\n",
      "[3, 4, 5, 6]\n",
      "[0, 3, 6, 9]\n",
      "[]\n",
      "[0, 1, 2, 3, 4, 5, 6, 7, 8, 9]\n"
     ]
    }
   ],
   "source": [
    "\n",
    "a = [i for i in range(10)]\n",
    "\n",
    "print(a)\n",
    "\n",
    "print(a[3:7:1])\n",
    "print(a[:100:3])\n",
    "print(a[12:])\n",
    "print(a[:])\n"
   ]
  },
  {
   "cell_type": "markdown",
   "metadata": {},
   "source": [
    "### Explanation: \n",
    "\n",
    "[start:end:skip] selector uses default value if no value was provided [0:array.length:1]"
   ]
  },
  {
   "cell_type": "markdown",
   "metadata": {},
   "source": [
    "# Topic 2: Statement and Expression\n",
    "\n",
    "Before we jump into the topic of **Control Flow**. Let's try clarify these terms - **Statement** and **Expression**.\n",
    "\n",
    "**Statement** and **Expression** are two word frequently used by programmers to describe a piece of code.\n",
    "\n",
    "**Statement** stands for a single complete line of code. \n",
    "\n",
    "1. In some programming language, an end-of-line sign like a semicolon(**;**) is required at the end of each statement. \n",
    "2. In python, semicolon is not required. However, if there's more than one statement in a line, a semicolon will be required to separate them.\n",
    "3. **Statement** usually has some side-effects like changing the value refered by a variable name or printing to the output.\n",
    "\n",
    "\n",
    "**Expression** stands for a piece of a code which does some evaluation.\n",
    "\n",
    "1. **Expression** does not require an end-of-line signal. But a pair of brackets will be needed when combining multiple expressions. Sometimes, programmers will put additional brackets in expression so that the code is more readable.\n",
    "2. Unlike **Statment**, **Expression** usually has no side-effect, it does not not change the state of the other variables.\n",
    "3. **Statement** is usually a combination of **Expression** with some operations like **= Assignment**. \n",
    "\n",
    "### Try it yourself "
   ]
  },
  {
   "cell_type": "code",
   "execution_count": null,
   "metadata": {},
   "outputs": [],
   "source": [
    "# single statment\n",
    "a = 1 + 5\n",
    "\n",
    "# single statment with semicolon\n",
    "a = 2\n",
    "\n",
    "# two statements\n",
    "a = 1\n",
    "b = 2\n",
    "\n",
    "# two statements in one line with semicolon\n",
    "a = 1; b = 2;\n",
    "\n",
    "# expression\n",
    "1+2\n",
    "\n",
    "# complicated expression\n",
    "( 1 + 2 * 3 + 4 ** 5 ) > 54321"
   ]
  },
  {
   "cell_type": "markdown",
   "metadata": {},
   "source": [
    "# Topic 3: Control Flow"
   ]
  },
  {
   "cell_type": "markdown",
   "metadata": {},
   "source": [
    "In computer science, **Control Flow** (or flow of control) is the order in which individual statements, instructions or function calls of an imperative program are executed or evaluated.\n",
    "\n",
    "**Control flow Handler** are special built-in symbol and syntaxes which gives programmer the ability to manage the control flow.\n",
    "\n",
    "We will discuss multiple **Control flow Handler** in this section.\n",
    "\n",
    "Refer: https://en.wikipedia.org/wiki/Control_flow\n",
    "\n",
    "### Try it yourself"
   ]
  },
  {
   "cell_type": "code",
   "execution_count": null,
   "metadata": {},
   "outputs": [],
   "source": [
    "number = 10\n",
    "\n",
    "for i in range(number):\n",
    "    if i%2 == 1:\n",
    "        print(i, \"is Odd\")\n",
    "    else:\n",
    "        print(i, \"is Even\")"
   ]
  },
  {
   "cell_type": "markdown",
   "metadata": {},
   "source": [
    "## Question\n",
    "Why do we need to indent in some lines? What will happen if we remove the indents?"
   ]
  },
  {
   "cell_type": "markdown",
   "metadata": {},
   "source": [
    "# 2.1 If Statement"
   ]
  },
  {
   "cell_type": "markdown",
   "metadata": {},
   "source": [
    "**If** is probably the most common used **Control Flow Handler**. It basically evaluates a expression then choose which part of the code to run. \n",
    "\n",
    "### Syntax:\n",
    "\n",
    "if **Expression** :\n",
    "\n",
    "___**Statements**\n",
    "\n",
    "elif **Expression**:\n",
    "\n",
    "___**Statements**\n",
    "\n",
    "___**More elif**___\n",
    "\n",
    "else:\n",
    "\n",
    "___**Statements**\n",
    "\n",
    "\n",
    "**Other code start from here**\n",
    "\n",
    "1. Read the whole if statement from top to bottom.\n",
    "2. Adding elif and additional statments block for more options in case the first \"if\" criteria does not match.\n",
    "3. Only the first **Expression** and **Statement** Block are required. **Elif** and **Else** blocks are always optional.\n",
    "4. Once a condition matches, the program will directly jumps to execute the statments below that **if/elif** condition. Rest elif statements will be ignored. **Remember!** Only one statements block will be executed for the whole if statement.\n",
    "5. If and only if no conditions in **if/elif** block are met, the code in else block will gets executed.\n",
    "\n",
    "### Try it yourself"
   ]
  },
  {
   "cell_type": "code",
   "execution_count": null,
   "metadata": {},
   "outputs": [],
   "source": [
    "score = 83\n",
    "\n",
    "# Check the Grade\n",
    "if score >= 90:\n",
    "    print(\"A\")\n",
    "elif score >=80:\n",
    "    print(\"B\")\n",
    "elif score >= 70:\n",
    "    print(\"C\")\n",
    "else:\n",
    "    print(\"fail\")"
   ]
  },
  {
   "cell_type": "markdown",
   "metadata": {},
   "source": [
    "# 2.2 While Statement"
   ]
  },
  {
   "cell_type": "code",
   "execution_count": null,
   "metadata": {},
   "outputs": [],
   "source": []
  }
 ],
 "metadata": {
  "kernelspec": {
   "display_name": "Python 3",
   "language": "python",
   "name": "python3"
  },
  "language_info": {
   "codemirror_mode": {
    "name": "ipython",
    "version": 3
   },
   "file_extension": ".py",
   "mimetype": "text/x-python",
   "name": "python",
   "nbconvert_exporter": "python",
   "pygments_lexer": "ipython3",
   "version": "3.6.1"
  }
 },
 "nbformat": 4,
 "nbformat_minor": 2
}
